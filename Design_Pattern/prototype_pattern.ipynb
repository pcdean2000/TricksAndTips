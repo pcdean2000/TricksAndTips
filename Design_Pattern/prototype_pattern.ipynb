{
 "cells": [
  {
   "cell_type": "markdown",
   "metadata": {},
   "source": [
    "# Design Pattern: Creational Patterns — Prototype Pattern"
   ]
  },
  {
   "cell_type": "markdown",
   "metadata": {},
   "source": [
    "- 當今天想要複製一個模型裡面的屬性時\n",
    "- 並且複製的是原本物件的全部屬性\n",
    "- 當今天new可能會造成危害時"
   ]
  },
  {
   "cell_type": "code",
   "execution_count": null,
   "metadata": {},
   "outputs": [],
   "source": [
    "import copy\n",
    "\n",
    "class Hero:\n",
    "    # Prototype\n",
    "    \n",
    "    def __init__(self):\n",
    "        self.weapon = None\n",
    "    \n",
    "    def get_weapon(self):\n",
    "        return self.weapon\n",
    "    \n",
    "    def set_weapon(self, weapon):\n",
    "        self.weapon = weapon\n",
    "    \n",
    "    def clone(self):\n",
    "        return copy.deepcopy(self)\n",
    "\n",
    "class HeroCam:\n",
    "    # Prototype registry\n",
    "    \n",
    "    def make_hero(self):\n",
    "        return Hero()\n",
    "    \n",
    "    def clone_hero(self, hero):\n",
    "        return hero.clone()\n",
    "\n",
    "if __name__ == \"__main__\":\n",
    "    hero_cam = HeroCam()\n",
    "    hero = hero_cam.make_hero()\n",
    "    hero.set_weapon(\"Magic\")\n",
    "    new_hero = hero_cam.clone_hero(hero)\n",
    "    print(hero.get_weapon())\n",
    "    print(new_hero.get_weapon())"
   ]
  }
 ],
 "metadata": {
  "language_info": {
   "name": "python"
  }
 },
 "nbformat": 4,
 "nbformat_minor": 2
}
