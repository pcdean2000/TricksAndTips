{
 "cells": [
  {
   "cell_type": "markdown",
   "metadata": {},
   "source": [
    "### 問題\n",
    "\n",
    "Python 的 `List` 有三種不同的初始化方法，都可以得到我們預期的結果。\n",
    "\n",
    "但如果我們檢查每個方法摻生的 `list` 的大小，就會發現他們之間其實存在些微的差異。"
   ]
  },
  {
   "cell_type": "code",
   "execution_count": 2,
   "metadata": {},
   "outputs": [
    {
     "name": "stdout",
     "output_type": "stream",
     "text": [
      "[0, 0, 0] [0, 0, 0] [0, 0, 0]\n"
     ]
    }
   ],
   "source": [
    "list1 = [0] * 3\n",
    "\n",
    "list2 = [0, 0, 0]\n",
    "\n",
    "list3 = [0 for i in range(3)]\n",
    "\n",
    "print(list1, list2, list3)"
   ]
  },
  {
   "cell_type": "code",
   "execution_count": 3,
   "metadata": {},
   "outputs": [
    {
     "name": "stdout",
     "output_type": "stream",
     "text": [
      "size of list1:  80\n",
      "size of list2:  88\n",
      "size of list3:  88\n"
     ]
    }
   ],
   "source": [
    "import sys\n",
    "\n",
    "print(\"size of list1: \", sys.getsizeof(list1))\n",
    "print(\"size of list2: \", sys.getsizeof(list2))\n",
    "print(\"size of list3: \", sys.getsizeof(list3))"
   ]
  },
  {
   "cell_type": "code",
   "execution_count": 1,
   "metadata": {},
   "outputs": [
    {
     "name": "stdout",
     "output_type": "stream",
     "text": [
      "disassemble [0] * 3\n",
      "  1           0 LOAD_CONST               0 (0)\n",
      "              2 BUILD_LIST               1\n",
      "              4 LOAD_CONST               1 (3)\n",
      "              6 BINARY_MULTIPLY\n",
      "              8 RETURN_VALUE\n",
      "disassemble [0, 0, 0]\n",
      "  1           0 BUILD_LIST               0\n",
      "              2 LOAD_CONST               0 ((0, 0, 0))\n",
      "              4 LIST_EXTEND              1\n",
      "              6 RETURN_VALUE\n",
      "disassemble [0 for i in range(3)]\n",
      "  1           0 LOAD_CONST               0 (<code object <listcomp> at 0x7f94242addc0, file \"<dis>\", line 1>)\n",
      "              2 LOAD_CONST               1 ('<listcomp>')\n",
      "              4 MAKE_FUNCTION            0\n",
      "              6 LOAD_NAME                0 (range)\n",
      "              8 LOAD_CONST               2 (3)\n",
      "             10 CALL_FUNCTION            1\n",
      "             12 GET_ITER\n",
      "             14 CALL_FUNCTION            1\n",
      "             16 RETURN_VALUE\n",
      "\n",
      "Disassembly of <code object <listcomp> at 0x7f94242addc0, file \"<dis>\", line 1>:\n",
      "  1           0 BUILD_LIST               0\n",
      "              2 LOAD_FAST                0 (.0)\n",
      "        >>    4 FOR_ITER                 4 (to 14)\n",
      "              6 STORE_FAST               1 (i)\n",
      "              8 LOAD_CONST               0 (0)\n",
      "             10 LIST_APPEND              2\n",
      "             12 JUMP_ABSOLUTE            2 (to 4)\n",
      "        >>   14 RETURN_VALUE\n"
     ]
    }
   ],
   "source": [
    "import dis\n",
    "\n",
    "print(\"disassemble [0] * 3\")\n",
    "dis.dis(\"[0] * 3\")\n",
    "\n",
    "print(\"disassemble [0, 0, 0]\")\n",
    "dis.dis(\"[0, 0, 0]\")\n",
    "\n",
    "print(\"disassemble [0 for i in range(3)]\")\n",
    "dis.dis(\"[0 for i in range(3)]\")"
   ]
  }
 ],
 "metadata": {
  "kernelspec": {
   "display_name": ".venv",
   "language": "python",
   "name": "python3"
  },
  "language_info": {
   "codemirror_mode": {
    "name": "ipython",
    "version": 3
   },
   "file_extension": ".py",
   "mimetype": "text/x-python",
   "name": "python",
   "nbconvert_exporter": "python",
   "pygments_lexer": "ipython3",
   "version": "3.10.12"
  }
 },
 "nbformat": 4,
 "nbformat_minor": 2
}
