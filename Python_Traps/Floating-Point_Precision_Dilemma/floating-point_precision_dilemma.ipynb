{
 "cells": [
  {
   "cell_type": "markdown",
   "metadata": {},
   "source": [
    "# Problem\n",
    "\n",
    "Python 的浮點數並不是用十進位制進行儲存，因此遇到無法用二進位制表述的浮點數便會出現精確位的問題。"
   ]
  },
  {
   "cell_type": "code",
   "execution_count": 1,
   "metadata": {},
   "outputs": [
    {
     "name": "stdout",
     "output_type": "stream",
     "text": [
      "False\n",
      "0.30000000000000004\n",
      "0.3\n"
     ]
    }
   ],
   "source": [
    "x = 0.1 + 0.2\n",
    "y = 0.3\n",
    "\n",
    "# Print comparison result\n",
    "print(x == y)   # Output: False (because of floating point precision issue)\n",
    "\n",
    "# Print actual values for clarity\n",
    "print(x)        # Output: 0.30000000000000004\n",
    "print(y)        # Output: 0.3"
   ]
  },
  {
   "cell_type": "markdown",
   "metadata": {},
   "source": [
    "# Fixed\n",
    "\n",
    "問題是由於 Python 使用有限的位元來表示浮點數。有些數字（例如 0.1）沒有精確的二進位表示，因此 Python 會進行近似。這種近似會累積並導致在比較兩個浮點數時出現意外結果。\n",
    "\n",
    "在處理浮點數時，特別是在精確度很重要時（例如金融計算或科學模擬），使用 `math.isclose()` 函數是至關重要的。 這個函數在特定容忍範圍內比較數字，確保準確比較，並考慮浮點數不準確性，而不引入不必要的複雜性。"
   ]
  },
  {
   "cell_type": "code",
   "execution_count": 2,
   "metadata": {},
   "outputs": [
    {
     "name": "stdout",
     "output_type": "stream",
     "text": [
      "True\n"
     ]
    }
   ],
   "source": [
    "import math\n",
    "\n",
    "# Use math.isclose() to compare floating-point numbers safely\n",
    "print(math.isclose(x, y))   # Output: True, as it considers a tolerance for comparison"
   ]
  }
 ],
 "metadata": {
  "kernelspec": {
   "display_name": ".venv",
   "language": "python",
   "name": "python3"
  },
  "language_info": {
   "codemirror_mode": {
    "name": "ipython",
    "version": 3
   },
   "file_extension": ".py",
   "mimetype": "text/x-python",
   "name": "python",
   "nbconvert_exporter": "python",
   "pygments_lexer": "ipython3",
   "version": "3.10.12"
  }
 },
 "nbformat": 4,
 "nbformat_minor": 2
}
