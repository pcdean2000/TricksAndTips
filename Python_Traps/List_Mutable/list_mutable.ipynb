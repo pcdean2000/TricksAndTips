{
 "cells": [
  {
   "cell_type": "code",
   "execution_count": 1,
   "metadata": {},
   "outputs": [
    {
     "name": "stdout",
     "output_type": "stream",
     "text": [
      "[1, 2, 3, 4, 5]\n"
     ]
    }
   ],
   "source": [
    "list1 = [1, 2, 3, 4, 5]\n",
    "\n",
    "g_list = (n for n in list1)\n",
    "\n",
    "list1 = [0, 1, 2]\n",
    "\n",
    "print(list(g_list))"
   ]
  },
  {
   "cell_type": "code",
   "execution_count": 2,
   "metadata": {},
   "outputs": [
    {
     "name": "stdout",
     "output_type": "stream",
     "text": [
      "  2           0 BUILD_LIST               0\n",
      "              2 LOAD_CONST               0 ((1, 2, 3, 4, 5))\n",
      "              4 LIST_EXTEND              1\n",
      "              6 STORE_NAME               0 (list1)\n",
      "\n",
      "  4           8 LOAD_CONST               1 (<code object <genexpr> at 0x7fb9e40bdfd0, file \"<dis>\", line 4>)\n",
      "             10 LOAD_CONST               2 ('<genexpr>')\n",
      "             12 MAKE_FUNCTION            0\n",
      "             14 LOAD_NAME                0 (list1)\n",
      "             16 GET_ITER\n",
      "             18 CALL_FUNCTION            1\n",
      "             20 STORE_NAME               1 (g_list)\n",
      "\n",
      "  6          22 BUILD_LIST               0\n",
      "             24 LOAD_CONST               3 ((0, 1, 2))\n",
      "             26 LIST_EXTEND              1\n",
      "             28 STORE_NAME               0 (list1)\n",
      "\n",
      "  8          30 LOAD_NAME                2 (print)\n",
      "             32 LOAD_NAME                3 (list)\n",
      "             34 LOAD_NAME                1 (g_list)\n",
      "             36 CALL_FUNCTION            1\n",
      "             38 CALL_FUNCTION            1\n",
      "             40 POP_TOP\n",
      "             42 LOAD_CONST               4 (None)\n",
      "             44 RETURN_VALUE\n",
      "\n",
      "Disassembly of <code object <genexpr> at 0x7fb9e40bdfd0, file \"<dis>\", line 4>:\n",
      "              0 GEN_START                0\n",
      "\n",
      "  4           2 LOAD_FAST                0 (.0)\n",
      "        >>    4 FOR_ITER                 5 (to 16)\n",
      "              6 STORE_FAST               1 (n)\n",
      "              8 LOAD_FAST                1 (n)\n",
      "             10 YIELD_VALUE\n",
      "             12 POP_TOP\n",
      "             14 JUMP_ABSOLUTE            2 (to 4)\n",
      "        >>   16 LOAD_CONST               0 (None)\n",
      "             18 RETURN_VALUE\n"
     ]
    }
   ],
   "source": [
    "import dis\n",
    "\n",
    "dis.dis(\"\"\"\n",
    "list1 = [1, 2, 3, 4, 5]\n",
    "\n",
    "g_list = (n for n in list1)\n",
    "\n",
    "list1 = [0, 1, 2]\n",
    "\n",
    "print(list(g_list))\n",
    "\"\"\")"
   ]
  },
  {
   "cell_type": "code",
   "execution_count": 2,
   "metadata": {},
   "outputs": [
    {
     "name": "stdout",
     "output_type": "stream",
     "text": [
      "[1, 2]\n"
     ]
    }
   ],
   "source": [
    "list1 = [1, 2, 3, 4, 5]\n",
    "\n",
    "g_list = (n for n in list1 if n in list1)\n",
    "\n",
    "list1 = [0, 1, 2]\n",
    "\n",
    "print(list(g_list))"
   ]
  },
  {
   "cell_type": "code",
   "execution_count": 3,
   "metadata": {},
   "outputs": [
    {
     "name": "stdout",
     "output_type": "stream",
     "text": [
      "  2           0 BUILD_LIST               0\n",
      "              2 LOAD_CONST               0 ((1, 2, 3, 4, 5))\n",
      "              4 LIST_EXTEND              1\n",
      "              6 STORE_NAME               0 (list1)\n",
      "\n",
      "  4           8 LOAD_CONST               1 (<code object <genexpr> at 0x7f1194366600, file \"<dis>\", line 4>)\n",
      "             10 LOAD_CONST               2 ('<genexpr>')\n",
      "             12 MAKE_FUNCTION            0\n",
      "             14 LOAD_NAME                0 (list1)\n",
      "             16 GET_ITER\n",
      "             18 CALL_FUNCTION            1\n",
      "             20 STORE_NAME               1 (g_list)\n",
      "\n",
      "  6          22 BUILD_LIST               0\n",
      "             24 LOAD_CONST               3 ((0, 1, 2))\n",
      "             26 LIST_EXTEND              1\n",
      "             28 STORE_NAME               0 (list1)\n",
      "\n",
      "  8          30 LOAD_NAME                2 (print)\n",
      "             32 LOAD_NAME                3 (list)\n",
      "             34 LOAD_NAME                1 (g_list)\n",
      "             36 CALL_FUNCTION            1\n",
      "             38 CALL_FUNCTION            1\n",
      "             40 POP_TOP\n",
      "             42 LOAD_CONST               4 (None)\n",
      "             44 RETURN_VALUE\n",
      "\n",
      "Disassembly of <code object <genexpr> at 0x7f1194366600, file \"<dis>\", line 4>:\n",
      "              0 GEN_START                0\n",
      "\n",
      "  4           2 LOAD_FAST                0 (.0)\n",
      "        >>    4 FOR_ITER                 9 (to 24)\n",
      "              6 STORE_FAST               1 (n)\n",
      "              8 LOAD_FAST                1 (n)\n",
      "             10 LOAD_GLOBAL              0 (list1)\n",
      "             12 CONTAINS_OP              0\n",
      "             14 POP_JUMP_IF_FALSE        2 (to 4)\n",
      "             16 LOAD_FAST                1 (n)\n",
      "             18 YIELD_VALUE\n",
      "             20 POP_TOP\n",
      "             22 JUMP_ABSOLUTE            2 (to 4)\n",
      "        >>   24 LOAD_CONST               0 (None)\n",
      "             26 RETURN_VALUE\n"
     ]
    }
   ],
   "source": [
    "import dis\n",
    "\n",
    "dis.dis(\"\"\"\n",
    "list1 = [1, 2, 3, 4, 5]\n",
    "\n",
    "g_list = (n for n in list1 if n in list1)\n",
    "\n",
    "list1 = [0, 1, 2]\n",
    "\n",
    "print(list(g_list))\n",
    "\"\"\")"
   ]
  },
  {
   "cell_type": "code",
   "execution_count": 4,
   "metadata": {},
   "outputs": [
    {
     "name": "stdout",
     "output_type": "stream",
     "text": [
      "[(1, 'x'), (1, 'y'), (2, 'x'), (2, 'y'), (3, 'x'), (3, 'y')]\n"
     ]
    }
   ],
   "source": [
    "list1 = [1, 2, 3]\n",
    "\n",
    "g_list = ((a, b) for a in list1 for b in list1)\n",
    "\n",
    "list1 = ['x', 'y']\n",
    "\n",
    "print(list(g_list))"
   ]
  },
  {
   "cell_type": "code",
   "execution_count": 5,
   "metadata": {},
   "outputs": [
    {
     "name": "stdout",
     "output_type": "stream",
     "text": [
      "  2           0 BUILD_LIST               0\n",
      "              2 LOAD_CONST               0 ((1, 2, 3))\n",
      "              4 LIST_EXTEND              1\n",
      "              6 STORE_NAME               0 (list1)\n",
      "\n",
      "  4           8 LOAD_CONST               1 (<code object <genexpr> at 0x7f119accbec0, file \"<dis>\", line 4>)\n",
      "             10 LOAD_CONST               2 ('<genexpr>')\n",
      "             12 MAKE_FUNCTION            0\n",
      "             14 LOAD_NAME                0 (list1)\n",
      "             16 GET_ITER\n",
      "             18 CALL_FUNCTION            1\n",
      "             20 STORE_NAME               1 (g_list)\n",
      "\n",
      "  6          22 LOAD_CONST               3 ('x')\n",
      "             24 LOAD_CONST               4 ('y')\n",
      "             26 BUILD_LIST               2\n",
      "             28 STORE_NAME               0 (list1)\n",
      "\n",
      "  8          30 LOAD_NAME                2 (print)\n",
      "             32 LOAD_NAME                3 (list)\n",
      "             34 LOAD_NAME                1 (g_list)\n",
      "             36 CALL_FUNCTION            1\n",
      "             38 CALL_FUNCTION            1\n",
      "             40 POP_TOP\n",
      "             42 LOAD_CONST               5 (None)\n",
      "             44 RETURN_VALUE\n",
      "\n",
      "Disassembly of <code object <genexpr> at 0x7f119accbec0, file \"<dis>\", line 4>:\n",
      "              0 GEN_START                0\n",
      "\n",
      "  4           2 LOAD_FAST                0 (.0)\n",
      "        >>    4 FOR_ITER                12 (to 30)\n",
      "              6 STORE_FAST               1 (a)\n",
      "              8 LOAD_GLOBAL              0 (list1)\n",
      "             10 GET_ITER\n",
      "        >>   12 FOR_ITER                 7 (to 28)\n",
      "             14 STORE_FAST               2 (b)\n",
      "             16 LOAD_FAST                1 (a)\n",
      "             18 LOAD_FAST                2 (b)\n",
      "             20 BUILD_TUPLE              2\n",
      "             22 YIELD_VALUE\n",
      "             24 POP_TOP\n",
      "             26 JUMP_ABSOLUTE            6 (to 12)\n",
      "        >>   28 JUMP_ABSOLUTE            2 (to 4)\n",
      "        >>   30 LOAD_CONST               0 (None)\n",
      "             32 RETURN_VALUE\n"
     ]
    }
   ],
   "source": [
    "import dis\n",
    "\n",
    "dis.dis(\"\"\"\n",
    "list1 = [1, 2, 3]\n",
    "\n",
    "g_list = ((a, b) for a in list1 for b in list1)\n",
    "\n",
    "list1 = ['x', 'y']\n",
    "\n",
    "print(list(g_list))\n",
    "\"\"\")"
   ]
  }
 ],
 "metadata": {
  "kernelspec": {
   "display_name": ".venv",
   "language": "python",
   "name": "python3"
  },
  "language_info": {
   "codemirror_mode": {
    "name": "ipython",
    "version": 3
   },
   "file_extension": ".py",
   "mimetype": "text/x-python",
   "name": "python",
   "nbconvert_exporter": "python",
   "pygments_lexer": "ipython3",
   "version": "3.10.12"
  }
 },
 "nbformat": 4,
 "nbformat_minor": 2
}
