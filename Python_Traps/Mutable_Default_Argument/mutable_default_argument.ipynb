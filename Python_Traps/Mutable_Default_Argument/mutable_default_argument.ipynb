{
 "cells": [
  {
   "cell_type": "markdown",
   "metadata": {},
   "source": [
    "# Problem\n",
    "\n",
    "呼叫 `append_to_list` 的結果與預期的不一樣"
   ]
  },
  {
   "cell_type": "code",
   "execution_count": 2,
   "metadata": {},
   "outputs": [
    {
     "name": "stdout",
     "output_type": "stream",
     "text": [
      "[1, 2]\n",
      "[1, 2]\n",
      "[3]\n"
     ]
    }
   ],
   "source": [
    "# Function with a mutable default argument (list)\n",
    "def append_to_list(value, my_list=[]):\n",
    "    \"\"\"\n",
    "    Appends a value to a list. If no list is provided, the default list is used.\n",
    "    \n",
    "    Args:\n",
    "        value: Value to append.\n",
    "        my_list: List to which value will be appended, defaults to a mutable list.\n",
    "    Returns:\n",
    "        The list with the appended value.\n",
    "    \"\"\"\n",
    "    # Appends the item to the list\n",
    "    my_list.append(value)\n",
    "    return my_list\n",
    "\n",
    "# Call the function multiple times without passing a second argument\n",
    "list1 = append_to_list(1)\n",
    "list2 = append_to_list(2)\n",
    "list3 = append_to_list(3, [])  # Explicitly passing an empty list\n",
    "\n",
    "# Printing the results\n",
    "print(list1)  # Expected: [1], but you'll get [1, 2]\n",
    "print(list2)  # Expected: [2], but you'll get [1, 2]\n",
    "print(list3)  # Expected: [3], and you'll correctly get [3]"
   ]
  },
  {
   "cell_type": "markdown",
   "metadata": {},
   "source": [
    "# Fixed\n",
    "\n",
    "這是背後正在發生的事情：當 Python 編譯函數時，它為預設引數創建一個可變列表對象。這個列表不會在每次函數調用時重新初始化。相反，它重複使用相同的列表，導致您附加的值在不同調用之間持續存在。\n",
    "\n",
    "對於可變預設參數問題，最 Pythonic 和推薦的解決方案是使用 None 作為預設參數，並在需要時在函數內實例化列表。"
   ]
  },
  {
   "cell_type": "code",
   "execution_count": 3,
   "metadata": {},
   "outputs": [
    {
     "name": "stdout",
     "output_type": "stream",
     "text": [
      "[1]\n",
      "[2]\n",
      "[3]\n"
     ]
    }
   ],
   "source": [
    "# Fixes the mutable default argument issue by setting default to None.\n",
    "def append_to_list_fixed(value, my_list=None):\n",
    "    \"\"\"\n",
    "    Appends a value to a list. If no list is provided, initializes a new list.\n",
    "    Args:\n",
    "        value: Value to append.\n",
    "        my_list: List to which value will be appended, defaults to None.\n",
    "    Returns:\n",
    "        The list with the appended value.\n",
    "    \"\"\"\n",
    "    if my_list is None:\n",
    "        my_list = []  # Initialize a new list if none was passed\n",
    "    my_list.append(value)\n",
    "    return my_list\n",
    "\n",
    "# Call the function multiple times without passing a second argument\n",
    "list1 = append_to_list_fixed(1)\n",
    "list2 = append_to_list_fixed(2)\n",
    "list3 = append_to_list_fixed(3, [])  # Explicitly passing an empty list\n",
    "\n",
    "# Printing the results\n",
    "print(list1)  # Expected: [1], but you'll get [1, 2]\n",
    "print(list2)  # Expected: [2], but you'll get [1, 2]\n",
    "print(list3)  # Expected: [3], and you'll correctly get [3]"
   ]
  }
 ],
 "metadata": {
  "kernelspec": {
   "display_name": ".venv",
   "language": "python",
   "name": "python3"
  },
  "language_info": {
   "codemirror_mode": {
    "name": "ipython",
    "version": 3
   },
   "file_extension": ".py",
   "mimetype": "text/x-python",
   "name": "python",
   "nbconvert_exporter": "python",
   "pygments_lexer": "ipython3",
   "version": "3.10.12"
  }
 },
 "nbformat": 4,
 "nbformat_minor": 2
}
