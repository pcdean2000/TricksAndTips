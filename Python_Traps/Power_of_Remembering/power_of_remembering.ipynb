{
 "cells": [
  {
   "cell_type": "markdown",
   "metadata": {},
   "source": [
    "# Problem\n",
    "\n",
    "在 Python 中，閉包讓內部函式在外部函式執行完畢後，仍然可以“記得”來自其封閉範圍的變數。這種傾向可能是一個強大、方便的功能，但需要仔細處理，特別是當您想要修改封閉範圍的變數時。"
   ]
  },
  {
   "cell_type": "code",
   "execution_count": 1,
   "metadata": {},
   "outputs": [
    {
     "name": "stdout",
     "output_type": "stream",
     "text": [
      "1\n",
      "2\n",
      "3\n"
     ]
    }
   ],
   "source": [
    "def make_counter():\n",
    "    \"\"\"\n",
    "    Returns a counter function that increments and remembers its state across invocations.\n",
    "    \"\"\"\n",
    "    count = 0  # Enclosed variable\n",
    "\n",
    "    def increment():\n",
    "        nonlocal count  # Allows modification of the enclosing variable\n",
    "        count += 1\n",
    "        return count\n",
    "\n",
    "    return increment\n",
    "\n",
    "# Create a counter function\n",
    "counter = make_counter()\n",
    "\n",
    "# Call the counter multiple times\n",
    "print(counter())  # Output: 1\n",
    "print(counter())  # Output: 2\n",
    "print(counter())  # Output: 3"
   ]
  },
  {
   "cell_type": "markdown",
   "metadata": {},
   "source": [
    "# Fixed\n",
    "\n",
    "在這個例子中，`increment` 可以訪問由外部函數 `make_counter` 定義的變量 `count`。但是，如果在 `increment` 內修改 `count`，將會導致錯誤，因為 Python 會將 `count` 視為 `increment` 內的本地變量。使用 `nonlocal` 關鍵字，告訴 Python 查看封閉範圍並修改該變量。\n",
    "\n",
    "明智地使用 `nonlocal` 關鍵字。它允許內部函數改變其封閉環境的狀態。這個功能對於編寫乾淨、可維護的閉包並封裝狀態是至關重要的，使您的代碼高效且模塊化。"
   ]
  }
 ],
 "metadata": {
  "kernelspec": {
   "display_name": ".venv",
   "language": "python",
   "name": "python3"
  },
  "language_info": {
   "codemirror_mode": {
    "name": "ipython",
    "version": 3
   },
   "file_extension": ".py",
   "mimetype": "text/x-python",
   "name": "python",
   "nbconvert_exporter": "python",
   "pygments_lexer": "ipython3",
   "version": "3.10.12"
  }
 },
 "nbformat": 4,
 "nbformat_minor": 2
}
