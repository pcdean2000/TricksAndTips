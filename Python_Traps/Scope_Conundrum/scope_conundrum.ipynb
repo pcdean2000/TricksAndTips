{
 "cells": [
  {
   "cell_type": "markdown",
   "metadata": {},
   "source": [
    "# Problem\n",
    "\n",
    "在Python中，作用域可能很棘手，特別是在處理函數時。除非另有明示實行，否則Python會自動將函數內分配的變數視為該函數的本地變量。這種傾向會導致一個標準錯誤：`UnboundLocalError`。當您嘗試在函數內部修改全局變量而未先聲明為全局時，就會發生此錯誤。"
   ]
  },
  {
   "cell_type": "code",
   "execution_count": 1,
   "metadata": {},
   "outputs": [
    {
     "ename": "UnboundLocalError",
     "evalue": "local variable 'x' referenced before assignment",
     "output_type": "error",
     "traceback": [
      "\u001b[0;31m---------------------------------------------------------------------------\u001b[0m",
      "\u001b[0;31mUnboundLocalError\u001b[0m                         Traceback (most recent call last)",
      "Cell \u001b[0;32mIn[1], line 11\u001b[0m\n\u001b[1;32m      8\u001b[0m     x \u001b[38;5;241m=\u001b[39m x \u001b[38;5;241m+\u001b[39m \u001b[38;5;241m1\u001b[39m  \u001b[38;5;66;03m# UnboundLocalError: local variable 'x' referenced before assignment\u001b[39;00m\n\u001b[1;32m      9\u001b[0m     \u001b[38;5;28mprint\u001b[39m(x)\n\u001b[0;32m---> 11\u001b[0m \u001b[43mfoo\u001b[49m\u001b[43m(\u001b[49m\u001b[43m)\u001b[49m  \u001b[38;5;66;03m# Uncommenting this will raise UnboundLocalError\u001b[39;00m\n",
      "Cell \u001b[0;32mIn[1], line 8\u001b[0m, in \u001b[0;36mfoo\u001b[0;34m()\u001b[0m\n\u001b[1;32m      3\u001b[0m \u001b[38;5;28;01mdef\u001b[39;00m \u001b[38;5;21mfoo\u001b[39m():\n\u001b[1;32m      4\u001b[0m \u001b[38;5;250m    \u001b[39m\u001b[38;5;124;03m\"\"\"\u001b[39;00m\n\u001b[1;32m      5\u001b[0m \u001b[38;5;124;03m    Tries to modify the global variable 'x' without declaring it as global.\u001b[39;00m\n\u001b[1;32m      6\u001b[0m \u001b[38;5;124;03m    This will raise an UnboundLocalError because Python treats 'x' as a local variable inside the function.\u001b[39;00m\n\u001b[1;32m      7\u001b[0m \u001b[38;5;124;03m    \"\"\"\u001b[39;00m\n\u001b[0;32m----> 8\u001b[0m     x \u001b[38;5;241m=\u001b[39m \u001b[43mx\u001b[49m \u001b[38;5;241m+\u001b[39m \u001b[38;5;241m1\u001b[39m  \u001b[38;5;66;03m# UnboundLocalError: local variable 'x' referenced before assignment\u001b[39;00m\n\u001b[1;32m      9\u001b[0m     \u001b[38;5;28mprint\u001b[39m(x)\n",
      "\u001b[0;31mUnboundLocalError\u001b[0m: local variable 'x' referenced before assignment"
     ]
    }
   ],
   "source": [
    "x = 10  # Global variable\n",
    "\n",
    "def foo():\n",
    "    \"\"\"\n",
    "    Tries to modify the global variable 'x' without declaring it as global.\n",
    "    This will raise an UnboundLocalError because Python treats 'x' as a local variable inside the function.\n",
    "    \"\"\"\n",
    "    x = x + 1  # UnboundLocalError: local variable 'x' referenced before assignment\n",
    "    print(x)\n",
    "\n",
    "foo()  # Uncommenting this will raise UnboundLocalError"
   ]
  },
  {
   "cell_type": "markdown",
   "metadata": {},
   "source": [
    "# Fixed\n",
    "\n",
    "Python的作用域規則遵循LEGB（Local, Enclosing, Global, Built-in）原則。當在函數中引用變數時，Python首先檢查是否為局部變數。如果不是，則檢查封閉範圍、全域範圍，最後是內建範圍。在上面的例子中，Python 期望 `x` 是局部變數。但是，我們在任何賦值之前引用它，因此發生錯誤。\n",
    "\n",
    "要修改函數內的全域變量，必須將其明確聲明為全域變數。"
   ]
  },
  {
   "cell_type": "code",
   "execution_count": 2,
   "metadata": {},
   "outputs": [
    {
     "name": "stdout",
     "output_type": "stream",
     "text": [
      "11\n"
     ]
    }
   ],
   "source": [
    "x = 10  # Global variable\n",
    "\n",
    "def foo_fixed():\n",
    "    global x  # Declare 'x' as global to modify it\n",
    "    x = x + 1\n",
    "    print(x)\n",
    "\n",
    "foo_fixed()  # Output: 11"
   ]
  }
 ],
 "metadata": {
  "kernelspec": {
   "display_name": ".venv",
   "language": "python",
   "name": "python3"
  },
  "language_info": {
   "codemirror_mode": {
    "name": "ipython",
    "version": 3
   },
   "file_extension": ".py",
   "mimetype": "text/x-python",
   "name": "python",
   "nbconvert_exporter": "python",
   "pygments_lexer": "ipython3",
   "version": "3.10.12"
  }
 },
 "nbformat": 4,
 "nbformat_minor": 2
}
