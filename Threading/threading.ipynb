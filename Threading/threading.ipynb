{
 "cells": [
  {
   "cell_type": "code",
   "execution_count": 1,
   "metadata": {},
   "outputs": [
    {
     "name": "stdout",
     "output_type": "stream",
     "text": [
      "Squared numbers: [1, 4, 9, 16, 25, 36, 49, 64, 81, 100]\n",
      "Time taken: 10.009669542312622 seconds\n"
     ]
    }
   ],
   "source": [
    "import time\n",
    "\n",
    "# List of numbers to process\n",
    "numbers = [1, 2, 3, 4, 5, 6, 7, 8, 9, 10]\n",
    "\n",
    "# Function to square a number\n",
    "def square_number(number):\n",
    "    time.sleep(1)  # Simulate a time-consuming task\n",
    "    return number * number\n",
    "\n",
    "# Using a for loop to process each number\n",
    "squared_numbers = []\n",
    "start_time = time.time()\n",
    "for number in numbers:\n",
    "    squared_numbers.append(square_number(number))\n",
    "\n",
    "end_time = time.time()\n",
    "\n",
    "print(\"Squared numbers:\", squared_numbers)\n",
    "print(\"Time taken:\", end_time - start_time, \"seconds\")"
   ]
  },
  {
   "cell_type": "code",
   "execution_count": 4,
   "metadata": {},
   "outputs": [
    {
     "name": "stdout",
     "output_type": "stream",
     "text": [
      "Squared numbers: [1, 4, 9, 16, 25, 36, 49, 64, 81, 100]\n",
      "Time taken: 1.003479242324829 seconds\n"
     ]
    }
   ],
   "source": [
    "import time\n",
    "from concurrent.futures import ThreadPoolExecutor\n",
    "\n",
    "# List of numbers to process\n",
    "numbers = [1, 2, 3, 4, 5, 6, 7, 8, 9, 10]\n",
    "\n",
    "# Function to square a number\n",
    "def square_number(number):\n",
    "    time.sleep(1)  # Simulate a time-consuming task\n",
    "    return number * number\n",
    "\n",
    "# Using ThreadPoolExecutor for multithreading\n",
    "squared_numbers = []\n",
    "start_time = time.time()\n",
    "\n",
    "with ThreadPoolExecutor(max_workers=10) as executor:\n",
    "    results = executor.map(square_number, numbers)\n",
    "\n",
    "# Collect the results\n",
    "squared_numbers = list(results)\n",
    "\n",
    "end_time = time.time()\n",
    "\n",
    "print(\"Squared numbers:\", squared_numbers)\n",
    "print(\"Time taken:\", end_time - start_time, \"seconds\")"
   ]
  },
  {
   "cell_type": "code",
   "execution_count": 5,
   "metadata": {},
   "outputs": [
    {
     "name": "stdout",
     "output_type": "stream",
     "text": [
      "Squared numbers: [1, 4, 9, 16, 25, 36, 49, 64, 81, 100]\n",
      "Time taken: 2.0043962001800537 seconds\n"
     ]
    }
   ],
   "source": [
    "import time\n",
    "from concurrent.futures import ThreadPoolExecutor, as_completed\n",
    "\n",
    "# Decorator to add multithreading\n",
    "def multithreaded(max_workers=5):\n",
    "    def decorator(func):\n",
    "        def wrapper(*args, **kwargs):\n",
    "            with ThreadPoolExecutor(max_workers=max_workers) as executor:\n",
    "                future_to_args = {executor.submit(func, arg): arg for arg in args[0]}\n",
    "                results = []\n",
    "                for future in as_completed(future_to_args):\n",
    "                    arg = future_to_args[future]\n",
    "                    try:\n",
    "                        result = future.result()\n",
    "                    except Exception as exc:\n",
    "                        print(f'{arg} generated an exception: {exc}')\n",
    "                    else:\n",
    "                        results.append(result)\n",
    "                return results\n",
    "        return wrapper\n",
    "    return decorator\n",
    "\n",
    "# Function to square a number\n",
    "@multithreaded(max_workers=5)\n",
    "def square_number(number):\n",
    "    time.sleep(1)  # Simulate a time-consuming task\n",
    "    return number * number\n",
    "\n",
    "# List of numbers to process\n",
    "numbers = [1, 2, 3, 4, 5, 6, 7, 8, 9, 10]\n",
    "\n",
    "# Using the decorated function\n",
    "start_time = time.time()\n",
    "squared_numbers = square_number(numbers)\n",
    "end_time = time.time()\n",
    "\n",
    "print(\"Squared numbers:\", squared_numbers)\n",
    "print(\"Time taken:\", end_time - start_time, \"seconds\")"
   ]
  }
 ],
 "metadata": {
  "kernelspec": {
   "display_name": ".venv",
   "language": "python",
   "name": "python3"
  },
  "language_info": {
   "codemirror_mode": {
    "name": "ipython",
    "version": 3
   },
   "file_extension": ".py",
   "mimetype": "text/x-python",
   "name": "python",
   "nbconvert_exporter": "python",
   "pygments_lexer": "ipython3",
   "version": "3.10.12"
  }
 },
 "nbformat": 4,
 "nbformat_minor": 2
}
